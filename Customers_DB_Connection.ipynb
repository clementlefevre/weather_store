{
 "cells": [
  {
   "cell_type": "code",
   "execution_count": 9,
   "metadata": {
    "collapsed": false
   },
   "outputs": [],
   "source": [
    "import pandas as pd\n",
    "from sqlalchemy import create_engine\n",
    "\n",
    "df = pd.read_csv(\"customers.csv\",sep=\";\",encoding='utf-8')\n",
    "df = df[['Customer', u'DB-Name', u'DB-Server', u'DB-User', u'DB-PWD'] ]\n",
    "df['DB-Name'] = df['DB-Name'].apply(lambda x: ''.join([\"\" if ord(i) < 32 or ord(i) > 126 else i for i in x]))\n",
    "df['DB-Name']= map(str,df['DB-Name'])\n",
    "df['test']= df['DB-Name']+\"+++\"\n",
    "df.to_csv(\"customers_db_params.csv\",sep=\";\",encoding=\"utf-8\")\n",
    "\n",
    "dicto = df.to_dict(orient='index')\n",
    "\n",
    "addresses_d = []\n",
    "for v in dicto.iteritems():\n",
    "    v = v[1]\n",
    "    #print v['DB-User']\n",
    "    address = 'postgresql://' + v['DB-User'] + \":\"+str(v['DB-PWD'])+  '@' + str(v['DB-Server'])\\\n",
    "    +\".um.dilax.com:5432/\"+str(v['DB-Name'])\n",
    "    addresses_d.append(address)\n",
    "print addresses_d\n",
    "\n",
    "df = pd.DataFrame()\n",
    "\n",
    "for a in addresses_d:\n",
    "    engine = create_engine(a)\n",
    "    df_sites = pd.read_sql_query(\"select * from dwe_bld_site\",con=engine)\n",
    "    df_sites['customer_name']= str(a)\n",
    "    df = pd.concat([df,df_sites],axis=0)\n",
    "    \n",
    "\n",
    "df.to_csv(\"all_sites.csv\",sep=\";\",encoding='utf-8')"
   ]
  }
 ],
 "metadata": {
  "anaconda-cloud": {},
  "kernelspec": {
   "display_name": "Python [default]",
   "language": "python",
   "name": "python2"
  },
  "language_info": {
   "codemirror_mode": {
    "name": "ipython",
    "version": 2
   },
   "file_extension": ".py",
   "mimetype": "text/x-python",
   "name": "python",
   "nbconvert_exporter": "python",
   "pygments_lexer": "ipython2",
   "version": "2.7.12"
  }
 },
 "nbformat": 4,
 "nbformat_minor": 1
}
