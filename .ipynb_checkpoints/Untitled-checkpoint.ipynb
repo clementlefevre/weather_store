{
 "cells": [
  {
   "cell_type": "code",
   "execution_count": 21,
   "metadata": {
    "collapsed": false
   },
   "outputs": [],
   "source": [
    "import urllib2\n",
    "import json\n",
    "import models\n",
    "import settings\n",
    "\n",
    "from dateutil import parser\n",
    "\n",
    "\n",
    "db_tool = models.DB_tool()\n",
    "sites = db_tool.get_sites()\n",
    "site = sites[40]\n",
    "\n",
    "def retrieve_data(site):\n",
    "    response = urllib2.urlopen(settings.URL_WEATHER+\"lat=\"+str(site.latitude)+\"&lon=\"+str(site.longitude))\n",
    "    data = json.loads(response.read())\n",
    "    data = data['LocationWeather']\n",
    "    updated = parser.parse(data['latestobservation']['latests'][0]['dateTime'])\n",
    "    return data,updated\n",
    "\n",
    "def init_missing_values(data):\n",
    "    features = set(['ne','ww','rrr','tt','tx','tn','prrr'])\n",
    "    data_keys = set(data.keys())\n",
    "    missing_keys = features - data_keys\n",
    "    for missing_key in (missing_keys):\n",
    "        data[missing_key]=-9999\n",
    "    return data\n",
    "\n",
    "def store_observations(data,updated):\n",
    "    for d in data['observation']['hours']:\n",
    "        obs = convert_to_observation(d, 'hour',updated)\n",
    "        db_tool.add_observation(obs)\n",
    "    for d in data['observation']['days']:\n",
    "        print \"day : \",d\n",
    "        obs = convert_to_observation(d, 'day',updated)\n",
    "        \n",
    "        print obs\n",
    "        db_tool.add_observation(obs)\n",
    "\n",
    "def convert_to_observation(obs_data, period, updated):\n",
    "    result  = init_missing_values(obs_data)\n",
    "    if period=='hour':\n",
    "        obs_data['dateTime'] = parser.parse(obs_data['dateTime'])\n",
    "    elif period =='day':\n",
    "        obs_data['dateTime'] = parser.parse(obs_data['date'])\n",
    "        obs_data.pop('date',None)\n",
    "        \n",
    "    obs_dict = dict(site_id = site.id,period = period, updated = updated)\n",
    "    result =  obs_dict.copy()\n",
    "    result.update(obs_data)\n",
    "    obs = models.Observation(**result)\n",
    "    return obs"
   ]
  },
  {
   "cell_type": "code",
   "execution_count": 24,
   "metadata": {
    "collapsed": true
   },
   "outputs": [],
   "source": [
    "data,updated = retrieve_data(site)"
   ]
  },
  {
   "cell_type": "code",
   "execution_count": 25,
   "metadata": {
    "collapsed": false
   },
   "outputs": [
    {
     "name": "stdout",
     "output_type": "stream",
     "text": [
      "day :  {u'date': u'2016-11-16', u'tn': 3.3, u'rrr': 1.9, u'tx': 8.5, u'ne': 7}\n",
      "<models.Observation object at 0x7f78b4451890>\n"
     ]
    }
   ],
   "source": [
    "store_observations(data,updated)"
   ]
  }
 ],
 "metadata": {
  "anaconda-cloud": {},
  "kernelspec": {
   "display_name": "Python [default]",
   "language": "python",
   "name": "python2"
  },
  "language_info": {
   "codemirror_mode": {
    "name": "ipython",
    "version": 2
   },
   "file_extension": ".py",
   "mimetype": "text/x-python",
   "name": "python",
   "nbconvert_exporter": "python",
   "pygments_lexer": "ipython2",
   "version": "2.7.12"
  }
 },
 "nbformat": 4,
 "nbformat_minor": 1
}
